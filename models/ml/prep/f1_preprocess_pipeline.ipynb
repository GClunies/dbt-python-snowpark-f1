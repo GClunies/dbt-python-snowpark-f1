{
 "cells": [
  {
   "cell_type": "markdown",
   "metadata": {},
   "source": [
    "# Prep F1 data for ML model\n",
    "Reads in data from `fct_results` dbt table and prepares it for Machine Learning use cases.\n",
    "\n",
    "This notebook mimics https://docs.getdbt.com/guides/dbt-python-snowpark?step=11#covariate-encoding, but builds the preprocessing pipeline using Snowpark in a notebook instead of pandas dbt Python model.\n",
    "\n",
    "Notebooks are better suited for pipeline development, allowing the developer to more easily see the intermediate steps and debug the pipeline. The final pipeline is saved to a Snowflake Stage so it can be called by downstream dbt Python models for producing predictions. "
   ]
  },
  {
   "cell_type": "markdown",
   "metadata": {},
   "source": [
    "### Imports"
   ]
  },
  {
   "cell_type": "code",
   "execution_count": 56,
   "metadata": {},
   "outputs": [],
   "source": [
    "import os\n",
    "import warnings\n",
    "from pprint import pprint\n",
    "\n",
    "import joblib\n",
    "import numpy as np\n",
    "import snowflake.ml.modeling.preprocessing as snowml\n",
    "from dotenv import load_dotenv\n",
    "from snowflake.ml.modeling.metrics.correlation import correlation\n",
    "from snowflake.ml.modeling.pipeline import Pipeline\n",
    "from snowflake.snowpark import Session\n",
    "from snowflake.snowpark import functions as F\n",
    "from snowflake.snowpark import types as T\n",
    "from snowflake.snowpark.version import VERSION as SNOWPARK_VERSION\n",
    "\n",
    "warnings.simplefilter(\"ignore\")"
   ]
  },
  {
   "cell_type": "markdown",
   "metadata": {},
   "source": [
    "### Connect to Snowflake"
   ]
  },
  {
   "cell_type": "code",
   "execution_count": 57,
   "metadata": {},
   "outputs": [
    {
     "name": "stdout",
     "output_type": "stream",
     "text": [
      "'Connected to Snowflake with the following parameters:'\n",
      "'User: GREG_CLUNIES'\n",
      "'Role: \"TRANSFORMER\"'\n",
      "'Database: \"FORMULA1\"'\n",
      "'Warehouse: \"TRANSFORMING\"'\n",
      "'Schema: \"DBT_GREG\"'\n",
      "'Snowflake version: 8.7.1'\n",
      "'Snowpark for Python version: 1.12.1'\n"
     ]
    }
   ],
   "source": [
    "load_dotenv()  # Get the environment variables from .env file\n",
    "\n",
    "# Store SNOWFLAKE_ML_USER and SNOWFLAKE_ML_PASSWORD in .env file (not committed to git)\n",
    "session = Session.builder.configs(\n",
    "    {\n",
    "        \"account\": os.getenv(\"SNOWFLAKE_ACCOUNT\"),\n",
    "        \"database\": \"FORMULA1\",\n",
    "        \"warehouse\": \"TRANSFORMING\",\n",
    "        \"role\": \"TRANSFORMER\",\n",
    "        \"schema\": \"DBT_GREG\",  # Replace with your dev schema\n",
    "        \"user\": os.getenv(\"SNOWFLAKE_ML_USER\"),\n",
    "        \"password\": os.getenv(\"SNOWFLAKE_ML_PASSWORD\"),\n",
    "    }\n",
    ").create()\n",
    "session.sql_simplifier_enabled = True\n",
    "snowflake_env = session.sql(\"select current_user(), current_version()\").collect()\n",
    "\n",
    "pprint(\"Connected to Snowflake with the following parameters:\")\n",
    "pprint(f\"User: {snowflake_env[0][0]}\")\n",
    "pprint(f\"Role: {session.get_current_role()}\")\n",
    "pprint(f\"Database: {session.get_current_database()}\")\n",
    "pprint(f\"Warehouse: {session.get_current_warehouse()}\")\n",
    "pprint(f\"Schema: {session.get_current_schema()}\")\n",
    "pprint(f\"Snowflake version: {snowflake_env[0][1]}\")\n",
    "pprint(\n",
    "    f\"Snowpark for Python version: {SNOWPARK_VERSION[0]}.{SNOWPARK_VERSION[1]}.{SNOWPARK_VERSION[2]}\"\n",
    ")"
   ]
  },
  {
   "cell_type": "markdown",
   "metadata": {},
   "source": [
    "### Preview the data"
   ]
  },
  {
   "cell_type": "code",
   "execution_count": 58,
   "metadata": {},
   "outputs": [
    {
     "name": "stdout",
     "output_type": "stream",
     "text": [
      "---------------------------------------------------------------------------------------------------------------------------------------------------------------------------------------------------------------------------------------------------------------------------------------------------------------------------------------------------------------------------------------------------------------------------------------------------------------------------------------------------------------------------------------------------------------------------------------------------------------------------------------------------------------------------------------------------------------------------------------------------\n",
      "|\"RESULT_ID\"  |\"RACE_ID\"  |\"RACE_YEAR\"  |\"RACE_ROUND\"  |\"CIRCUIT_ID\"  |\"CIRCUIT_NAME\"         |\"CIRCUIT_REF\"  |\"LOCATION\"    |\"COUNTRY\"  |\"LATITUDE\"  |\"LONGITUDE\"  |\"ALTITUDE\"  |\"TOTAL_PIT_STOPS_PER_RACE\"  |\"RACE_DATE\"  |\"RACE_TIME\"  |\"DRIVER_ID\"  |\"DRIVER\"          |\"DRIVER_NUMBER\"  |\"DRIVERS_AGE_YEARS\"  |\"DRIVER_NATIONALITY\"  |\"CONSTRUCTOR_ID\"  |\"CONSTRUCTOR_NAME\"  |\"CONSTRUCTOR_NATIONALITY\"  |\"GRID\"  |\"POSITION_LABEL\"  |\"POSITION\"  |\"POSITION_TEXT\"  |\"POSITION_ORDER\"  |\"POINTS\"  |\"LAPS\"  |\"RESULTS_TIME_FORMATTED\"  |\"RESULTS_MILLISECONDS\"  |\"FASTEST_LAP\"  |\"RESULTS_RANK\"  |\"FASTEST_LAP_TIME_FORMATTED\"  |\"FASTEST_LAP_SPEED\"  |\"STATUS_ID\"  |\"STATUS\"  |\"DNF_FLAG\"  |\"DRIVER_CONFIDENCE\"  |\"CONSTRUCTOR_RELIABILITY\"  |\n",
      "---------------------------------------------------------------------------------------------------------------------------------------------------------------------------------------------------------------------------------------------------------------------------------------------------------------------------------------------------------------------------------------------------------------------------------------------------------------------------------------------------------------------------------------------------------------------------------------------------------------------------------------------------------------------------------------------------------------------------------------------------\n",
      "|20325        |337        |2010         |1             |3             |BAHRAIN_GRAND_PRIX     |BAHRAIN        |SAKHIR        |BAHRAIN    |26.0325     |50.5106      |7           |0                           |2010-03-14   |12:00:00     |1            |LEWIS_HAMILTON    |2                |25                   |BRITISH               |1                 |MCLAREN             |BRITISH                    |4       |1                 |3           |3                |3                 |15        |49      |+23.182                   |5983578                 |42             |4               |1:59.560                      |189.665              |1            |FINISHED  |0           |0.911215             |0.855491                   |\n",
      "|20326        |337        |2010         |1             |3             |BAHRAIN_GRAND_PRIX     |BAHRAIN        |SAKHIR        |BAHRAIN    |26.0325     |50.5106      |7           |0                           |2010-03-14   |12:00:00     |20           |SEBASTIAN_VETTEL  |5                |23                   |GERMAN                |9                 |RED_BULL            |AUSTRIAN                   |1       |2                 |4           |4                |4                 |12        |49      |+38.799                   |5999195                 |32             |12              |2:00.218                      |188.627              |1            |FINISHED  |0           |0.902326             |0.847025                   |\n",
      "|20352        |338        |2010         |2             |1             |AUSTRALIAN_GRAND_PRIX  |ALBERT_PARK    |MELBOURNE     |AUSTRALIA  |-37.8497    |144.968      |10          |0                           |2010-03-28   |06:00:00     |1            |LEWIS_HAMILTON    |2                |25                   |BRITISH               |1                 |MCLAREN             |BRITISH                    |11      |2                 |6           |6                |6                 |8         |58      |+29.898                   |5646429                 |47             |3               |1:28.506                      |215.700              |1            |FINISHED  |0           |0.911215             |0.855491                   |\n",
      "|20363        |338        |2010         |2             |1             |AUSTRALIAN_GRAND_PRIX  |ALBERT_PARK    |MELBOURNE     |AUSTRALIA  |-37.8497    |144.968      |10          |0                           |2010-03-28   |06:00:00     |20           |SEBASTIAN_VETTEL  |5                |23                   |GERMAN                |9                 |RED_BULL            |AUSTRIAN                   |1       |3                 |NULL        |R                |17                |0         |25      |NULL                      |NULL                    |22             |13              |1:31.556                      |208.515              |36           |WHEEL     |1           |0.902326             |0.847025                   |\n",
      "|20371        |339        |2010         |3             |2             |MALAYSIAN_GRAND_PRIX   |SEPANG         |KUALA_LUMPUR  |MALAYSIA   |2.76083     |101.738      |18          |0                           |2010-04-04   |08:00:00     |20           |SEBASTIAN_VETTEL  |5                |23                   |GERMAN                |9                 |RED_BULL            |AUSTRIAN                   |3       |1                 |1           |1                |1                 |25        |56      |1:33:48.412               |5628412                 |53             |6               |1:37.813                      |204.009              |1            |FINISHED  |0           |0.902326             |0.847025                   |\n",
      "|20376        |339        |2010         |3             |2             |MALAYSIAN_GRAND_PRIX   |SEPANG         |KUALA_LUMPUR  |MALAYSIA   |2.76083     |101.738      |18          |0                           |2010-04-04   |08:00:00     |1            |LEWIS_HAMILTON    |2                |25                   |BRITISH               |1                 |MCLAREN             |BRITISH                    |20      |2                 |6           |6                |6                 |8         |56      |+23.471                   |5651883                 |32             |4               |1:37.745                      |204.151              |1            |FINISHED  |0           |0.911215             |0.855491                   |\n",
      "|20396        |340        |2010         |4             |17            |CHINESE_GRAND_PRIX     |SHANGHAI       |SHANGHAI      |CHINA      |31.3389     |121.22       |5           |0                           |2010-04-18   |06:00:00     |1            |LEWIS_HAMILTON    |2                |25                   |BRITISH               |1                 |MCLAREN             |BRITISH                    |6       |1                 |2           |2                |2                 |18        |56      |+1.530                    |6403693                 |13             |1               |1:42.061                      |192.273              |1            |FINISHED  |0           |0.911215             |0.855491                   |\n",
      "|20400        |340        |2010         |4             |17            |CHINESE_GRAND_PRIX     |SHANGHAI       |SHANGHAI      |CHINA      |31.3389     |121.22       |5           |0                           |2010-04-18   |06:00:00     |20           |SEBASTIAN_VETTEL  |5                |23                   |GERMAN                |9                 |RED_BULL            |AUSTRIAN                   |1       |2                 |6           |6                |6                 |8         |56      |+33.310                   |6435473                 |14             |2               |1:42.358                      |191.715              |1            |FINISHED  |0           |0.902326             |0.847025                   |\n",
      "|20421        |341        |2010         |5             |4             |SPANISH_GRAND_PRIX     |CATALUNYA      |MONTMELÓ      |SPAIN      |41.57       |2.26111      |109         |0                           |2010-05-09   |12:00:00     |20           |SEBASTIAN_VETTEL  |5                |23                   |GERMAN                |9                 |RED_BULL            |AUSTRIAN                   |2       |1                 |3           |3                |3                 |15        |66      |+51.338                   |5795439                 |56             |5               |1:25.176                      |196.745              |1            |FINISHED  |0           |0.902326             |0.847025                   |\n",
      "|20432        |341        |2010         |5             |4             |SPANISH_GRAND_PRIX     |CATALUNYA      |MONTMELÓ      |SPAIN      |41.57       |2.26111      |109         |0                           |2010-05-09   |12:00:00     |1            |LEWIS_HAMILTON    |2                |25                   |BRITISH               |1                 |MCLAREN             |BRITISH                    |3       |3                 |14          |14               |14                |0         |64      |NULL                      |NULL                    |59             |1               |1:24.357                      |198.655              |29           |PUNCTURE  |0           |0.911215             |0.855491                   |\n",
      "---------------------------------------------------------------------------------------------------------------------------------------------------------------------------------------------------------------------------------------------------------------------------------------------------------------------------------------------------------------------------------------------------------------------------------------------------------------------------------------------------------------------------------------------------------------------------------------------------------------------------------------------------------------------------------------------------------------------------------------------------\n",
      "\n"
     ]
    }
   ],
   "source": [
    "features_df = session.table(\"F1_FEATURES\")\n",
    "features_df.show()"
   ]
  },
  {
   "cell_type": "markdown",
   "metadata": {},
   "source": [
    "### Feature Engineering & Selection\n",
    "ML models require features in certain format to make predictions, often not human-readable. We can use Snowpark optimized preprocessiong functions to transform the data into the format required by the model.\n",
    "\n",
    "If you're lucky, you know what features to use for your model. But often, you don't and will need to perform include techniques like recursive feature elimination, feature importance, etc. A list of Snowpark optimized functions can be found [here](https://docs.snowflake.com/en/developer-guide/snowpark-ml/reference/latest/modeling#snowflake-ml-modeling-feature-selection).\n",
    "\n",
    "For this demo, we will only show some simple feature engineering. We will explicitly select the features we want to use."
   ]
  },
  {
   "cell_type": "code",
   "execution_count": 59,
   "metadata": {},
   "outputs": [
    {
     "name": "stdout",
     "output_type": "stream",
     "text": [
      "----------------------------------------------------------------------------------------------------------------------------------------------------------------------------------------------------------------\n",
      "|\"POSITION_LABEL\"  |\"RACE_YEAR\"  |\"CIRCUIT_NAME\"         |\"GRID\"  |\"CONSTRUCTOR_NAME\"  |\"DRIVER\"          |\"DRIVERS_AGE_YEARS\"  |\"DRIVER_CONFIDENCE\"  |\"CONSTRUCTOR_RELIABILITY\"  |\"TOTAL_PIT_STOPS_PER_RACE\"  |\n",
      "----------------------------------------------------------------------------------------------------------------------------------------------------------------------------------------------------------------\n",
      "|1                 |2010         |BAHRAIN_GRAND_PRIX     |4       |MCLAREN             |LEWIS_HAMILTON    |25                   |0.911215             |0.855491                   |0                           |\n",
      "|2                 |2010         |BAHRAIN_GRAND_PRIX     |1       |RED_BULL            |SEBASTIAN_VETTEL  |23                   |0.902326             |0.847025                   |0                           |\n",
      "|2                 |2010         |AUSTRALIAN_GRAND_PRIX  |11      |MCLAREN             |LEWIS_HAMILTON    |25                   |0.911215             |0.855491                   |0                           |\n",
      "|3                 |2010         |AUSTRALIAN_GRAND_PRIX  |1       |RED_BULL            |SEBASTIAN_VETTEL  |23                   |0.902326             |0.847025                   |0                           |\n",
      "|1                 |2010         |MALAYSIAN_GRAND_PRIX   |3       |RED_BULL            |SEBASTIAN_VETTEL  |23                   |0.902326             |0.847025                   |0                           |\n",
      "|2                 |2010         |MALAYSIAN_GRAND_PRIX   |20      |MCLAREN             |LEWIS_HAMILTON    |25                   |0.911215             |0.855491                   |0                           |\n",
      "|1                 |2010         |CHINESE_GRAND_PRIX     |6       |MCLAREN             |LEWIS_HAMILTON    |25                   |0.911215             |0.855491                   |0                           |\n",
      "|2                 |2010         |CHINESE_GRAND_PRIX     |1       |RED_BULL            |SEBASTIAN_VETTEL  |23                   |0.902326             |0.847025                   |0                           |\n",
      "|1                 |2010         |SPANISH_GRAND_PRIX     |2       |RED_BULL            |SEBASTIAN_VETTEL  |23                   |0.902326             |0.847025                   |0                           |\n",
      "|3                 |2010         |SPANISH_GRAND_PRIX     |3       |MCLAREN             |LEWIS_HAMILTON    |25                   |0.911215             |0.855491                   |0                           |\n",
      "----------------------------------------------------------------------------------------------------------------------------------------------------------------------------------------------------------------\n",
      "\n"
     ]
    }
   ],
   "source": [
    "target = [\"POSITION_LABEL\"]  # 1 = podium, 2 = points, 3 = no points\n",
    "features = [\n",
    "    \"RACE_YEAR\",\n",
    "    \"CIRCUIT_NAME\",\n",
    "    \"GRID\",\n",
    "    \"CONSTRUCTOR_NAME\",\n",
    "    \"DRIVER\",\n",
    "    \"DRIVERS_AGE_YEARS\",\n",
    "    \"DRIVER_CONFIDENCE\",\n",
    "    \"CONSTRUCTOR_RELIABILITY\",\n",
    "    \"TOTAL_PIT_STOPS_PER_RACE\",\n",
    "]\n",
    "features_df = features_df.select(target + features)\n",
    "features_df.show()"
   ]
  },
  {
   "cell_type": "code",
   "execution_count": 60,
   "metadata": {},
   "outputs": [
    {
     "name": "stdout",
     "output_type": "stream",
     "text": [
      "-------------------------------------------------------------------------------------------------------------------------------------------------------------------------------------------------------------------------------------------------------------------------------------------------------------------------------------\n",
      "|\"GRID_NORM\"           |\"DRIVER_CONFIDENCE_NORM\"  |\"CONSTRUCTOR_RELIABILITY_NORM\"  |\"TOTAL_PIT_STOPS_PER_RACE_NORM\"  |\"POSITION_LABEL\"  |\"RACE_YEAR\"  |\"CIRCUIT_NAME\"         |\"GRID\"  |\"CONSTRUCTOR_NAME\"  |\"DRIVER\"          |\"DRIVERS_AGE_YEARS\"  |\"DRIVER_CONFIDENCE\"  |\"CONSTRUCTOR_RELIABILITY\"  |\"TOTAL_PIT_STOPS_PER_RACE\"  |\n",
      "-------------------------------------------------------------------------------------------------------------------------------------------------------------------------------------------------------------------------------------------------------------------------------------------------------------------------------------\n",
      "|0.16666666666666666   |0.7443352706876927        |0.4709440618071383              |0.0                              |1                 |2010         |BAHRAIN_GRAND_PRIX     |4       |MCLAREN             |LEWIS_HAMILTON    |25                   |0.911215             |0.855491                   |0                           |\n",
      "|0.041666666666666664  |0.6991749309055435        |0.4183657626213382              |0.0                              |2                 |2010         |BAHRAIN_GRAND_PRIX     |1       |RED_BULL            |SEBASTIAN_VETTEL  |23                   |0.902326             |0.847025                   |0                           |\n",
      "|0.4583333333333333    |0.7443352706876927        |0.4709440618071383              |0.0                              |2                 |2010         |AUSTRALIAN_GRAND_PRIX  |11      |MCLAREN             |LEWIS_HAMILTON    |25                   |0.911215             |0.855491                   |0                           |\n",
      "|0.041666666666666664  |0.6991749309055435        |0.4183657626213382              |0.0                              |3                 |2010         |AUSTRALIAN_GRAND_PRIX  |1       |RED_BULL            |SEBASTIAN_VETTEL  |23                   |0.902326             |0.847025                   |0                           |\n",
      "|0.125                 |0.6991749309055435        |0.4183657626213382              |0.0                              |1                 |2010         |MALAYSIAN_GRAND_PRIX   |3       |RED_BULL            |SEBASTIAN_VETTEL  |23                   |0.902326             |0.847025                   |0                           |\n",
      "|0.8333333333333333    |0.7443352706876927        |0.4709440618071383              |0.0                              |2                 |2010         |MALAYSIAN_GRAND_PRIX   |20      |MCLAREN             |LEWIS_HAMILTON    |25                   |0.911215             |0.855491                   |0                           |\n",
      "|0.25                  |0.7443352706876927        |0.4709440618071383              |0.0                              |1                 |2010         |CHINESE_GRAND_PRIX     |6       |MCLAREN             |LEWIS_HAMILTON    |25                   |0.911215             |0.855491                   |0                           |\n",
      "|0.041666666666666664  |0.6991749309055435        |0.4183657626213382              |0.0                              |2                 |2010         |CHINESE_GRAND_PRIX     |1       |RED_BULL            |SEBASTIAN_VETTEL  |23                   |0.902326             |0.847025                   |0                           |\n",
      "|0.08333333333333333   |0.6991749309055435        |0.4183657626213382              |0.0                              |1                 |2010         |SPANISH_GRAND_PRIX     |2       |RED_BULL            |SEBASTIAN_VETTEL  |23                   |0.902326             |0.847025                   |0                           |\n",
      "|0.125                 |0.7443352706876927        |0.4709440618071383              |0.0                              |3                 |2010         |SPANISH_GRAND_PRIX     |3       |MCLAREN             |LEWIS_HAMILTON    |25                   |0.911215             |0.855491                   |0                           |\n",
      "-------------------------------------------------------------------------------------------------------------------------------------------------------------------------------------------------------------------------------------------------------------------------------------------------------------------------------------\n",
      "\n"
     ]
    }
   ],
   "source": [
    "# Normalizing the numeric features\n",
    "snowml_mms = snowml.MinMaxScaler(\n",
    "    clip=True,\n",
    "    input_cols=[\n",
    "        \"GRID\",\n",
    "        \"DRIVER_CONFIDENCE\",\n",
    "        \"CONSTRUCTOR_RELIABILITY\",\n",
    "        \"TOTAL_PIT_STOPS_PER_RACE\",\n",
    "    ],\n",
    "    output_cols=[\n",
    "        \"GRID_NORM\",\n",
    "        \"DRIVER_CONFIDENCE_NORM\",\n",
    "        \"CONSTRUCTOR_RELIABILITY_NORM\",\n",
    "        \"TOTAL_PIT_STOPS_PER_RACE_NORM\",\n",
    "    ],\n",
    ")\n",
    "normalized_features_df = snowml_mms.fit(features_df).transform(features_df)\n",
    "normalized_features_df.show()"
   ]
  },
  {
   "cell_type": "code",
   "execution_count": 61,
   "metadata": {},
   "outputs": [
    {
     "data": {
      "text/plain": [
       "array(['CIRCUIT_NAME_OHE_70TH_ANNIVERSARY_GRAND_PRIX',\n",
       "       'CIRCUIT_NAME_OHE_ABU_DHABI_GRAND_PRIX',\n",
       "       'CIRCUIT_NAME_OHE_AUSTRALIAN_GRAND_PRIX',\n",
       "       'CIRCUIT_NAME_OHE_AUSTRIAN_GRAND_PRIX',\n",
       "       'CIRCUIT_NAME_OHE_AZERBAIJAN_GRAND_PRIX',\n",
       "       'CIRCUIT_NAME_OHE_BAHRAIN_GRAND_PRIX',\n",
       "       'CIRCUIT_NAME_OHE_BELGIAN_GRAND_PRIX',\n",
       "       'CIRCUIT_NAME_OHE_BRAZILIAN_GRAND_PRIX',\n",
       "       'CIRCUIT_NAME_OHE_BRITISH_GRAND_PRIX',\n",
       "       'CIRCUIT_NAME_OHE_CANADIAN_GRAND_PRIX',\n",
       "       'CIRCUIT_NAME_OHE_CHINESE_GRAND_PRIX',\n",
       "       'CIRCUIT_NAME_OHE_EIFEL_GRAND_PRIX',\n",
       "       'CIRCUIT_NAME_OHE_EMILIA_ROMAGNA_GRAND_PRIX',\n",
       "       'CIRCUIT_NAME_OHE_EUROPEAN_GRAND_PRIX',\n",
       "       'CIRCUIT_NAME_OHE_FRENCH_GRAND_PRIX',\n",
       "       'CIRCUIT_NAME_OHE_GERMAN_GRAND_PRIX',\n",
       "       'CIRCUIT_NAME_OHE_HUNGARIAN_GRAND_PRIX',\n",
       "       'CIRCUIT_NAME_OHE_INDIAN_GRAND_PRIX',\n",
       "       'CIRCUIT_NAME_OHE_ITALIAN_GRAND_PRIX',\n",
       "       'CIRCUIT_NAME_OHE_JAPANESE_GRAND_PRIX',\n",
       "       'CIRCUIT_NAME_OHE_KOREAN_GRAND_PRIX',\n",
       "       'CIRCUIT_NAME_OHE_MALAYSIAN_GRAND_PRIX',\n",
       "       'CIRCUIT_NAME_OHE_MEXICAN_GRAND_PRIX',\n",
       "       'CIRCUIT_NAME_OHE_MONACO_GRAND_PRIX',\n",
       "       'CIRCUIT_NAME_OHE_PORTUGUESE_GRAND_PRIX',\n",
       "       'CIRCUIT_NAME_OHE_RUSSIAN_GRAND_PRIX',\n",
       "       'CIRCUIT_NAME_OHE_SAKHIR_GRAND_PRIX',\n",
       "       'CIRCUIT_NAME_OHE_SINGAPORE_GRAND_PRIX',\n",
       "       'CIRCUIT_NAME_OHE_SPANISH_GRAND_PRIX',\n",
       "       'CIRCUIT_NAME_OHE_STYRIAN_GRAND_PRIX',\n",
       "       'CIRCUIT_NAME_OHE_TURKISH_GRAND_PRIX',\n",
       "       'CIRCUIT_NAME_OHE_TUSCAN_GRAND_PRIX',\n",
       "       'CIRCUIT_NAME_OHE_UNITED_STATES_GRAND_PRIX',\n",
       "       'CONSTRUCTOR_NAME_OHE_ALFA_ROMEO',\n",
       "       'CONSTRUCTOR_NAME_OHE_ALPHATAURI', 'CONSTRUCTOR_NAME_OHE_FERRARI',\n",
       "       'CONSTRUCTOR_NAME_OHE_HAAS_F1_TEAM',\n",
       "       'CONSTRUCTOR_NAME_OHE_MCLAREN', 'CONSTRUCTOR_NAME_OHE_MERCEDES',\n",
       "       'CONSTRUCTOR_NAME_OHE_RACING_POINT',\n",
       "       'CONSTRUCTOR_NAME_OHE_RED_BULL', 'CONSTRUCTOR_NAME_OHE_RENAULT',\n",
       "       'CONSTRUCTOR_NAME_OHE_WILLIAMS', 'DRIVER_OHE_ALEXANDER_ALBON',\n",
       "       'DRIVER_OHE_ANTONIO_GIOVINAZZI', 'DRIVER_OHE_CARLOS_SAINZ',\n",
       "       'DRIVER_OHE_CHARLES_LECLERC', 'DRIVER_OHE_DANIEL_RICCIARDO',\n",
       "       'DRIVER_OHE_DANIIL_KVYAT', 'DRIVER_OHE_ESTEBAN_OCON',\n",
       "       'DRIVER_OHE_GEORGE_RUSSELL', 'DRIVER_OHE_KEVIN_MAGNUSSEN',\n",
       "       '\"DRIVER_OHE_KIMI_RÄIKKÖNEN\"', 'DRIVER_OHE_LANCE_STROLL',\n",
       "       'DRIVER_OHE_LANDO_NORRIS', 'DRIVER_OHE_LEWIS_HAMILTON',\n",
       "       'DRIVER_OHE_MAX_VERSTAPPEN', 'DRIVER_OHE_NICHOLAS_LATIFI',\n",
       "       'DRIVER_OHE_PIERRE_GASLY', 'DRIVER_OHE_ROMAIN_GROSJEAN',\n",
       "       'DRIVER_OHE_SEBASTIAN_VETTEL', '\"DRIVER_OHE_SERGIO_PÉREZ\"',\n",
       "       'DRIVER_OHE_VALTTERI_BOTTAS', 'GRID_NORM',\n",
       "       'DRIVER_CONFIDENCE_NORM', 'CONSTRUCTOR_RELIABILITY_NORM',\n",
       "       'TOTAL_PIT_STOPS_PER_RACE_NORM', 'POSITION_LABEL', 'RACE_YEAR',\n",
       "       'CIRCUIT_NAME', 'GRID', 'CONSTRUCTOR_NAME', 'DRIVER',\n",
       "       'DRIVERS_AGE_YEARS', 'DRIVER_CONFIDENCE',\n",
       "       'CONSTRUCTOR_RELIABILITY', 'TOTAL_PIT_STOPS_PER_RACE'],\n",
       "      dtype='<U44')"
      ]
     },
     "execution_count": 61,
     "metadata": {},
     "output_type": "execute_result"
    }
   ],
   "source": [
    "# One hot encoding the categorical features\n",
    "snowml_ohe = snowml.OneHotEncoder(\n",
    "    input_cols=[\"CIRCUIT_NAME\", \"CONSTRUCTOR_NAME\", \"DRIVER\"],\n",
    "    output_cols=[\"CIRCUIT_NAME_OHE\", \"CONSTRUCTOR_NAME_OHE\", \"DRIVER_OHE\"],\n",
    ")\n",
    "ohe_features_df = snowml_ohe.fit(normalized_features_df).transform(\n",
    "    normalized_features_df\n",
    ")\n",
    "\n",
    "np.array(ohe_features_df.columns)"
   ]
  },
  {
   "cell_type": "markdown",
   "metadata": {},
   "source": [
    "## Preprocessing Pipeline"
   ]
  },
  {
   "cell_type": "markdown",
   "metadata": {},
   "source": [
    "Let's package the feature engineering into a pipeline that can be used in downstream dbt models, Snowpark ML models, or other notebooks."
   ]
  },
  {
   "cell_type": "code",
   "execution_count": 62,
   "metadata": {},
   "outputs": [],
   "source": [
    "NUMERIC_COLUMNS = [\n",
    "    \"GRID\",\n",
    "    \"DRIVER_CONFIDENCE\",\n",
    "    \"CONSTRUCTOR_RELIABILITY\",\n",
    "    \"TOTAL_PIT_STOPS_PER_RACE\",\n",
    "]\n",
    "NUMERIC_COLUMNS_NORM = [\n",
    "    \"GRID_NORM\",\n",
    "    \"DRIVER_CONFIDENCE_NORM\",\n",
    "    \"CONSTRUCTOR_RELIABILITY_NORM\",\n",
    "    \"TOTAL_PIT_STOPS_PER_RACE_NORM\",\n",
    "]\n",
    "CATEGORICAL_COLUMNS = [\n",
    "    \"CIRCUIT_NAME\",\n",
    "    \"CONSTRUCTOR_NAME\",\n",
    "    \"DRIVER\",\n",
    "]\n",
    "CATEGORICAL_COLUMNS_OHE = [\n",
    "    \"CIRCUIT_NAME_OHE\",\n",
    "    \"CONSTRUCTOR_NAME_OHE\",\n",
    "    \"DRIVER_OHE\",\n",
    "]"
   ]
  },
  {
   "cell_type": "code",
   "execution_count": 67,
   "metadata": {},
   "outputs": [],
   "source": [
    "preprocess_pipeline = Pipeline(\n",
    "    steps=[\n",
    "        (\n",
    "            \"MMS\",\n",
    "            snowml.MinMaxScaler(\n",
    "                clip=True,\n",
    "                input_cols=NUMERIC_COLUMNS,\n",
    "                output_cols=NUMERIC_COLUMNS_NORM,\n",
    "            ),\n",
    "        ),\n",
    "        (\n",
    "            \"OHE\",\n",
    "            snowml.OneHotEncoder(\n",
    "                input_cols=CATEGORICAL_COLUMNS,\n",
    "                output_cols=CATEGORICAL_COLUMNS_OHE,\n",
    "            ),\n",
    "        ),\n",
    "    ]\n",
    ")"
   ]
  },
  {
   "cell_type": "code",
   "execution_count": 68,
   "metadata": {},
   "outputs": [
    {
     "name": "stdout",
     "output_type": "stream",
     "text": [
      "-----------------------------------------------------------------------------------------------------------------------------------------------------------------------------------------------------------------------------------------------------------------------------------------------------------------------------------------------------------------------------------------------------------------------------------------------------------------------------------------------------------------------------------------------------------------------------------------------------------------------------------------------------------------------------------------------------------------------------------------------------------------------------------------------------------------------------------------------------------------------------------------------------------------------------------------------------------------------------------------------------------------------------------------------------------------------------------------------------------------------------------------------------------------------------------------------------------------------------------------------------------------------------------------------------------------------------------------------------------------------------------------------------------------------------------------------------------------------------------------------------------------------------------------------------------------------------------------------------------------------------------------------------------------------------------------------------------------------------------------------------------------------------------------------------------------------------------------------------------------------------------------------------------------------------------------------------------------------------------------------------------------------------------------------------------------------------------------------------------------------------------------------------------------------------------------------------------------------------------------------------------------------------------------------------------------------------------------------------------------------------------------------------------------------------------------------------------------------------------------------------------------------------------------------------------------------------------------------------------------------------------------------------------------------------------------------------------------------------------\n",
      "|\"CIRCUIT_NAME_OHE_70TH_ANNIVERSARY_GRAND_PRIX\"  |\"CIRCUIT_NAME_OHE_ABU_DHABI_GRAND_PRIX\"  |\"CIRCUIT_NAME_OHE_AUSTRALIAN_GRAND_PRIX\"  |\"CIRCUIT_NAME_OHE_AUSTRIAN_GRAND_PRIX\"  |\"CIRCUIT_NAME_OHE_AZERBAIJAN_GRAND_PRIX\"  |\"CIRCUIT_NAME_OHE_BAHRAIN_GRAND_PRIX\"  |\"CIRCUIT_NAME_OHE_BELGIAN_GRAND_PRIX\"  |\"CIRCUIT_NAME_OHE_BRAZILIAN_GRAND_PRIX\"  |\"CIRCUIT_NAME_OHE_BRITISH_GRAND_PRIX\"  |\"CIRCUIT_NAME_OHE_CANADIAN_GRAND_PRIX\"  |\"CIRCUIT_NAME_OHE_CHINESE_GRAND_PRIX\"  |\"CIRCUIT_NAME_OHE_EIFEL_GRAND_PRIX\"  |\"CIRCUIT_NAME_OHE_EMILIA_ROMAGNA_GRAND_PRIX\"  |\"CIRCUIT_NAME_OHE_EUROPEAN_GRAND_PRIX\"  |\"CIRCUIT_NAME_OHE_FRENCH_GRAND_PRIX\"  |\"CIRCUIT_NAME_OHE_GERMAN_GRAND_PRIX\"  |\"CIRCUIT_NAME_OHE_HUNGARIAN_GRAND_PRIX\"  |\"CIRCUIT_NAME_OHE_INDIAN_GRAND_PRIX\"  |\"CIRCUIT_NAME_OHE_ITALIAN_GRAND_PRIX\"  |\"CIRCUIT_NAME_OHE_JAPANESE_GRAND_PRIX\"  |\"CIRCUIT_NAME_OHE_KOREAN_GRAND_PRIX\"  |\"CIRCUIT_NAME_OHE_MALAYSIAN_GRAND_PRIX\"  |\"CIRCUIT_NAME_OHE_MEXICAN_GRAND_PRIX\"  |\"CIRCUIT_NAME_OHE_MONACO_GRAND_PRIX\"  |\"CIRCUIT_NAME_OHE_PORTUGUESE_GRAND_PRIX\"  |\"CIRCUIT_NAME_OHE_RUSSIAN_GRAND_PRIX\"  |\"CIRCUIT_NAME_OHE_SAKHIR_GRAND_PRIX\"  |\"CIRCUIT_NAME_OHE_SINGAPORE_GRAND_PRIX\"  |\"CIRCUIT_NAME_OHE_SPANISH_GRAND_PRIX\"  |\"CIRCUIT_NAME_OHE_STYRIAN_GRAND_PRIX\"  |\"CIRCUIT_NAME_OHE_TURKISH_GRAND_PRIX\"  |\"CIRCUIT_NAME_OHE_TUSCAN_GRAND_PRIX\"  |\"CIRCUIT_NAME_OHE_UNITED_STATES_GRAND_PRIX\"  |\"CONSTRUCTOR_NAME_OHE_ALFA_ROMEO\"  |\"CONSTRUCTOR_NAME_OHE_ALPHATAURI\"  |\"CONSTRUCTOR_NAME_OHE_FERRARI\"  |\"CONSTRUCTOR_NAME_OHE_HAAS_F1_TEAM\"  |\"CONSTRUCTOR_NAME_OHE_MCLAREN\"  |\"CONSTRUCTOR_NAME_OHE_MERCEDES\"  |\"CONSTRUCTOR_NAME_OHE_RACING_POINT\"  |\"CONSTRUCTOR_NAME_OHE_RED_BULL\"  |\"CONSTRUCTOR_NAME_OHE_RENAULT\"  |\"CONSTRUCTOR_NAME_OHE_WILLIAMS\"  |\"DRIVER_OHE_ALEXANDER_ALBON\"  |\"DRIVER_OHE_ANTONIO_GIOVINAZZI\"  |\"DRIVER_OHE_CARLOS_SAINZ\"  |\"DRIVER_OHE_CHARLES_LECLERC\"  |\"DRIVER_OHE_DANIEL_RICCIARDO\"  |\"DRIVER_OHE_DANIIL_KVYAT\"  |\"DRIVER_OHE_ESTEBAN_OCON\"  |\"DRIVER_OHE_GEORGE_RUSSELL\"  |\"DRIVER_OHE_KEVIN_MAGNUSSEN\"  |\"DRIVER_OHE_KIMI_RÄIKKÖNEN\"  |\"DRIVER_OHE_LANCE_STROLL\"  |\"DRIVER_OHE_LANDO_NORRIS\"  |\"DRIVER_OHE_LEWIS_HAMILTON\"  |\"DRIVER_OHE_MAX_VERSTAPPEN\"  |\"DRIVER_OHE_NICHOLAS_LATIFI\"  |\"DRIVER_OHE_PIERRE_GASLY\"  |\"DRIVER_OHE_ROMAIN_GROSJEAN\"  |\"DRIVER_OHE_SEBASTIAN_VETTEL\"  |\"DRIVER_OHE_SERGIO_PÉREZ\"  |\"DRIVER_OHE_VALTTERI_BOTTAS\"  |\"GRID_NORM\"           |\"DRIVER_CONFIDENCE_NORM\"  |\"CONSTRUCTOR_RELIABILITY_NORM\"  |\"TOTAL_PIT_STOPS_PER_RACE_NORM\"  |\"POSITION_LABEL\"  |\"RACE_YEAR\"  |\"CIRCUIT_NAME\"      |\"GRID\"  |\"CONSTRUCTOR_NAME\"  |\"DRIVER\"          |\"DRIVERS_AGE_YEARS\"  |\"DRIVER_CONFIDENCE\"  |\"CONSTRUCTOR_RELIABILITY\"  |\"TOTAL_PIT_STOPS_PER_RACE\"  |\n",
      "-----------------------------------------------------------------------------------------------------------------------------------------------------------------------------------------------------------------------------------------------------------------------------------------------------------------------------------------------------------------------------------------------------------------------------------------------------------------------------------------------------------------------------------------------------------------------------------------------------------------------------------------------------------------------------------------------------------------------------------------------------------------------------------------------------------------------------------------------------------------------------------------------------------------------------------------------------------------------------------------------------------------------------------------------------------------------------------------------------------------------------------------------------------------------------------------------------------------------------------------------------------------------------------------------------------------------------------------------------------------------------------------------------------------------------------------------------------------------------------------------------------------------------------------------------------------------------------------------------------------------------------------------------------------------------------------------------------------------------------------------------------------------------------------------------------------------------------------------------------------------------------------------------------------------------------------------------------------------------------------------------------------------------------------------------------------------------------------------------------------------------------------------------------------------------------------------------------------------------------------------------------------------------------------------------------------------------------------------------------------------------------------------------------------------------------------------------------------------------------------------------------------------------------------------------------------------------------------------------------------------------------------------------------------------------------------------------------------------------------\n",
      "|0.0                                             |0.0                                      |0.0                                       |0.0                                     |0.0                                       |1.0                                    |0.0                                    |0.0                                      |0.0                                    |0.0                                     |0.0                                    |0.0                                  |0.0                                           |0.0                                     |0.0                                   |0.0                                   |0.0                                      |0.0                                   |0.0                                    |0.0                                     |0.0                                   |0.0                                      |0.0                                    |0.0                                   |0.0                                       |0.0                                    |0.0                                   |0.0                                      |0.0                                    |0.0                                    |0.0                                    |0.0                                   |0.0                                          |0.0                                |0.0                                |0.0                             |0.0                                  |1.0                             |0.0                              |0.0                                  |0.0                              |0.0                             |0.0                              |0.0                           |0.0                              |0.0                        |0.0                           |0.0                            |0.0                        |0.0                        |0.0                          |0.0                           |0.0                          |0.0                        |0.0                        |1.0                          |0.0                          |0.0                           |0.0                        |0.0                           |0.0                            |0.0                        |0.0                           |0.16666666666666666   |0.7443352706876927        |0.4709440618071383              |0.0                              |1                 |2010         |BAHRAIN_GRAND_PRIX  |4       |MCLAREN             |LEWIS_HAMILTON    |25                   |0.911215             |0.855491                   |0                           |\n",
      "|0.0                                             |0.0                                      |0.0                                       |0.0                                     |0.0                                       |1.0                                    |0.0                                    |0.0                                      |0.0                                    |0.0                                     |0.0                                    |0.0                                  |0.0                                           |0.0                                     |0.0                                   |0.0                                   |0.0                                      |0.0                                   |0.0                                    |0.0                                     |0.0                                   |0.0                                      |0.0                                    |0.0                                   |0.0                                       |0.0                                    |0.0                                   |0.0                                      |0.0                                    |0.0                                    |0.0                                    |0.0                                   |0.0                                          |0.0                                |0.0                                |0.0                             |0.0                                  |0.0                             |0.0                              |0.0                                  |1.0                              |0.0                             |0.0                              |0.0                           |0.0                              |0.0                        |0.0                           |0.0                            |0.0                        |0.0                        |0.0                          |0.0                           |0.0                          |0.0                        |0.0                        |0.0                          |0.0                          |0.0                           |0.0                        |0.0                           |1.0                            |0.0                        |0.0                           |0.041666666666666664  |0.6991749309055435        |0.4183657626213382              |0.0                              |2                 |2010         |BAHRAIN_GRAND_PRIX  |1       |RED_BULL            |SEBASTIAN_VETTEL  |23                   |0.902326             |0.847025                   |0                           |\n",
      "|0.0                                             |0.0                                      |0.0                                       |0.0                                     |0.0                                       |1.0                                    |0.0                                    |0.0                                      |0.0                                    |0.0                                     |0.0                                    |0.0                                  |0.0                                           |0.0                                     |0.0                                   |0.0                                   |0.0                                      |0.0                                   |0.0                                    |0.0                                     |0.0                                   |0.0                                      |0.0                                    |0.0                                   |0.0                                       |0.0                                    |0.0                                   |0.0                                      |0.0                                    |0.0                                    |0.0                                    |0.0                                   |0.0                                          |0.0                                |0.0                                |0.0                             |0.0                                  |0.0                             |0.0                              |0.0                                  |1.0                              |0.0                             |0.0                              |0.0                           |0.0                              |0.0                        |0.0                           |0.0                            |0.0                        |0.0                        |0.0                          |0.0                           |0.0                          |0.0                        |0.0                        |0.0                          |0.0                          |0.0                           |0.0                        |0.0                           |1.0                            |0.0                        |0.0                           |0.041666666666666664  |0.6991749309055435        |0.4183657626213382              |0.5                              |1                 |2012         |BAHRAIN_GRAND_PRIX  |1       |RED_BULL            |SEBASTIAN_VETTEL  |25                   |0.902326             |0.847025                   |3                           |\n",
      "|0.0                                             |0.0                                      |0.0                                       |0.0                                     |0.0                                       |1.0                                    |0.0                                    |0.0                                      |0.0                                    |0.0                                     |0.0                                    |0.0                                  |0.0                                           |0.0                                     |0.0                                   |0.0                                   |0.0                                      |0.0                                   |0.0                                    |0.0                                     |0.0                                   |0.0                                      |0.0                                    |0.0                                   |0.0                                       |0.0                                    |0.0                                   |0.0                                      |0.0                                    |0.0                                    |0.0                                    |0.0                                   |0.0                                          |0.0                                |0.0                                |0.0                             |0.0                                  |1.0                             |0.0                              |0.0                                  |0.0                              |0.0                             |0.0                              |0.0                           |0.0                              |0.0                        |0.0                           |0.0                            |0.0                        |0.0                        |0.0                          |0.0                           |0.0                          |0.0                        |0.0                        |1.0                          |0.0                          |0.0                           |0.0                        |0.0                           |0.0                            |0.0                        |0.0                           |0.08333333333333333   |0.7443352706876927        |0.4709440618071383              |0.5                              |2                 |2012         |BAHRAIN_GRAND_PRIX  |2       |MCLAREN             |LEWIS_HAMILTON    |27                   |0.911215             |0.855491                   |3                           |\n",
      "|0.0                                             |0.0                                      |0.0                                       |0.0                                     |0.0                                       |1.0                                    |0.0                                    |0.0                                      |0.0                                    |0.0                                     |0.0                                    |0.0                                  |0.0                                           |0.0                                     |0.0                                   |0.0                                   |0.0                                      |0.0                                   |0.0                                    |0.0                                     |0.0                                   |0.0                                      |0.0                                    |0.0                                   |0.0                                       |0.0                                    |0.0                                   |0.0                                      |0.0                                    |0.0                                    |0.0                                    |0.0                                   |0.0                                          |0.0                                |0.0                                |0.0                             |0.0                                  |0.0                             |0.0                              |0.0                                  |1.0                              |0.0                             |0.0                              |0.0                           |0.0                              |0.0                        |0.0                           |0.0                            |0.0                        |0.0                        |0.0                          |0.0                           |0.0                          |0.0                        |0.0                        |0.0                          |0.0                          |0.0                           |0.0                        |0.0                           |1.0                            |0.0                        |0.0                           |0.08333333333333333   |0.6991749309055435        |0.4183657626213382              |0.5                              |1                 |2013         |BAHRAIN_GRAND_PRIX  |2       |RED_BULL            |SEBASTIAN_VETTEL  |26                   |0.902326             |0.847025                   |3                           |\n",
      "|0.0                                             |0.0                                      |0.0                                       |0.0                                     |0.0                                       |1.0                                    |0.0                                    |0.0                                      |0.0                                    |0.0                                     |0.0                                    |0.0                                  |0.0                                           |0.0                                     |0.0                                   |0.0                                   |0.0                                      |0.0                                   |0.0                                    |0.0                                     |0.0                                   |0.0                                      |0.0                                    |0.0                                   |0.0                                       |0.0                                    |0.0                                   |0.0                                      |0.0                                    |0.0                                    |0.0                                    |0.0                                   |0.0                                          |0.0                                |0.0                                |0.0                             |0.0                                  |0.0                             |1.0                              |0.0                                  |0.0                              |0.0                             |0.0                              |0.0                           |0.0                              |0.0                        |0.0                           |0.0                            |0.0                        |0.0                        |0.0                          |0.0                           |0.0                          |0.0                        |0.0                        |1.0                          |0.0                          |0.0                           |0.0                        |0.0                           |0.0                            |0.0                        |0.0                           |0.375                 |0.7443352706876927        |1.0                             |0.5                              |2                 |2013         |BAHRAIN_GRAND_PRIX  |9       |MERCEDES            |LEWIS_HAMILTON    |28                   |0.911215             |0.940678                   |3                           |\n",
      "|0.0                                             |0.0                                      |0.0                                       |0.0                                     |0.0                                       |1.0                                    |0.0                                    |0.0                                      |0.0                                    |0.0                                     |0.0                                    |0.0                                  |0.0                                           |0.0                                     |0.0                                   |0.0                                   |0.0                                      |0.0                                   |0.0                                    |0.0                                     |0.0                                   |0.0                                      |0.0                                    |0.0                                   |0.0                                       |0.0                                    |0.0                                   |0.0                                      |0.0                                    |0.0                                    |0.0                                    |0.0                                   |0.0                                          |0.0                                |0.0                                |0.0                             |0.0                                  |1.0                             |0.0                              |0.0                                  |0.0                              |0.0                             |0.0                              |0.0                           |0.0                              |0.0                        |0.0                           |0.0                            |0.0                        |0.0                        |0.0                          |0.0                           |0.0                          |0.0                        |0.0                        |0.0                          |0.0                          |0.0                           |0.0                        |0.0                           |0.0                            |1.0                        |0.0                           |0.5                   |0.918290725085352         |0.4709440618071383              |0.5                              |2                 |2013         |BAHRAIN_GRAND_PRIX  |12      |MCLAREN             |SERGIO_PÉREZ      |23                   |0.945455             |0.855491                   |3                           |\n",
      "|0.0                                             |0.0                                      |0.0                                       |0.0                                     |0.0                                       |1.0                                    |0.0                                    |0.0                                      |0.0                                    |0.0                                     |0.0                                    |0.0                                  |0.0                                           |0.0                                     |0.0                                   |0.0                                   |0.0                                      |0.0                                   |0.0                                    |0.0                                     |0.0                                   |0.0                                      |0.0                                    |0.0                                   |0.0                                       |0.0                                    |0.0                                   |0.0                                      |0.0                                    |0.0                                    |0.0                                    |0.0                                   |0.0                                          |0.0                                |0.0                                |0.0                             |0.0                                  |0.0                             |0.0                              |0.0                                  |0.0                              |0.0                             |1.0                              |0.0                           |0.0                              |0.0                        |0.0                           |0.0                            |0.0                        |0.0                        |0.0                          |0.0                           |0.0                          |0.0                        |0.0                        |0.0                          |0.0                          |0.0                           |0.0                        |0.0                           |0.0                            |0.0                        |1.0                           |0.625                 |0.7747266704600881        |0.5786407646397587              |0.5                              |3                 |2013         |BAHRAIN_GRAND_PRIX  |15      |WILLIAMS            |VALTTERI_BOTTAS   |24                   |0.917197             |0.872832                   |3                           |\n",
      "|0.0                                             |0.0                                      |0.0                                       |0.0                                     |0.0                                       |1.0                                    |0.0                                    |0.0                                      |0.0                                    |0.0                                     |0.0                                    |0.0                                  |0.0                                           |0.0                                     |0.0                                   |0.0                                   |0.0                                      |0.0                                   |0.0                                    |0.0                                     |0.0                                   |0.0                                      |0.0                                    |0.0                                   |0.0                                       |0.0                                    |0.0                                   |0.0                                      |0.0                                    |0.0                                    |0.0                                    |0.0                                   |0.0                                          |0.0                                |0.0                                |0.0                             |0.0                                  |0.0                             |1.0                              |0.0                                  |0.0                              |0.0                             |0.0                              |0.0                           |0.0                              |0.0                        |0.0                           |0.0                            |0.0                        |0.0                        |0.0                          |0.0                           |0.0                          |0.0                        |0.0                        |1.0                          |0.0                          |0.0                           |0.0                        |0.0                           |0.0                            |0.0                        |0.0                           |0.08333333333333333   |0.7443352706876927        |1.0                             |0.3333333333333333               |1                 |2014         |BAHRAIN_GRAND_PRIX  |2       |MERCEDES            |LEWIS_HAMILTON    |29                   |0.911215             |0.940678                   |2                           |\n",
      "|0.0                                             |0.0                                      |0.0                                       |0.0                                     |0.0                                       |1.0                                    |0.0                                    |0.0                                      |0.0                                    |0.0                                     |0.0                                    |0.0                                  |0.0                                           |0.0                                     |0.0                                   |0.0                                   |0.0                                      |0.0                                   |0.0                                    |0.0                                     |0.0                                   |0.0                                      |0.0                                    |0.0                                   |0.0                                       |0.0                                    |0.0                                   |0.0                                      |0.0                                    |0.0                                    |0.0                                    |0.0                                   |0.0                                          |0.0                                |0.0                                |0.0                             |0.0                                  |0.0                             |0.0                              |0.0                                  |1.0                              |0.0                             |0.0                              |0.0                           |0.0                              |0.0                        |0.0                           |1.0                            |0.0                        |0.0                        |0.0                          |0.0                           |0.0                          |0.0                        |0.0                        |0.0                          |0.0                          |0.0                           |0.0                        |0.0                           |0.0                            |0.0                        |0.0                           |0.5416666666666666    |0.23821329865062557       |0.4183657626213382              |0.3333333333333333               |2                 |2014         |BAHRAIN_GRAND_PRIX  |13      |RED_BULL            |DANIEL_RICCIARDO  |25                   |0.811594             |0.847025                   |2                           |\n",
      "-----------------------------------------------------------------------------------------------------------------------------------------------------------------------------------------------------------------------------------------------------------------------------------------------------------------------------------------------------------------------------------------------------------------------------------------------------------------------------------------------------------------------------------------------------------------------------------------------------------------------------------------------------------------------------------------------------------------------------------------------------------------------------------------------------------------------------------------------------------------------------------------------------------------------------------------------------------------------------------------------------------------------------------------------------------------------------------------------------------------------------------------------------------------------------------------------------------------------------------------------------------------------------------------------------------------------------------------------------------------------------------------------------------------------------------------------------------------------------------------------------------------------------------------------------------------------------------------------------------------------------------------------------------------------------------------------------------------------------------------------------------------------------------------------------------------------------------------------------------------------------------------------------------------------------------------------------------------------------------------------------------------------------------------------------------------------------------------------------------------------------------------------------------------------------------------------------------------------------------------------------------------------------------------------------------------------------------------------------------------------------------------------------------------------------------------------------------------------------------------------------------------------------------------------------------------------------------------------------------------------------------------------------------------------------------------------------------------------------------\n",
      "\n"
     ]
    }
   ],
   "source": [
    "PIPELINE_FILE = \"f1_preprocess_pipeline.joblib\"\n",
    "joblib.dump(preprocess_pipeline, PIPELINE_FILE)  # Save to local pickle file\n",
    "\n",
    "transformed_features_df = preprocess_pipeline.fit(features_df).transform(features_df)\n",
    "transformed_features_df.show()"
   ]
  },
  {
   "cell_type": "code",
   "execution_count": 69,
   "metadata": {},
   "outputs": [
    {
     "data": {
      "text/plain": [
       "[PutResult(source='f1_preprocess_pipeline.joblib', target='f1_preprocess_pipeline.joblib.gz', source_size=1570, target_size=912, source_compression='NONE', target_compression='GZIP', status='UPLOADED', message='')]"
      ]
     },
     "execution_count": 69,
     "metadata": {},
     "output_type": "execute_result"
    }
   ],
   "source": [
    "# Create a stage in Snowflake to upload the preprocess pipeline file\n",
    "SCHEMA_NAME = \"FORMULA1_INTERNAL_STAGES\"\n",
    "STAGE_NAME = \"ML_F1_STAGE\"\n",
    "session.sql(f\"create schema if not exists {SCHEMA_NAME}\").collect()\n",
    "session.sql(f\"create or replace stage FORMULA1_INTERNAL_STAGES.{STAGE_NAME}\").collect()\n",
    "session.file.put(PIPELINE_FILE, f\"@{SCHEMA_NAME}.{STAGE_NAME}\", overwrite=True)"
   ]
  },
  {
   "cell_type": "code",
   "execution_count": null,
   "metadata": {},
   "outputs": [],
   "source": []
  }
 ],
 "metadata": {
  "kernelspec": {
   "display_name": ".venv",
   "language": "python",
   "name": "python3"
  },
  "language_info": {
   "codemirror_mode": {
    "name": "ipython",
    "version": 3
   },
   "file_extension": ".py",
   "mimetype": "text/x-python",
   "name": "python",
   "nbconvert_exporter": "python",
   "pygments_lexer": "ipython3",
   "version": "3.10.13"
  }
 },
 "nbformat": 4,
 "nbformat_minor": 2
}
